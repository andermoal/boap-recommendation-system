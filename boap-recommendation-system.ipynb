{
 "cells": [
  {
   "attachments": {},
   "cell_type": "markdown",
   "metadata": {},
   "source": [
    "# Scopus\n",
    "\n",
    "## MAA\n",
    "\n",
    "_Jesús Morales_"
   ]
  },
  {
   "cell_type": "code",
   "execution_count": 1,
   "metadata": {},
   "outputs": [],
   "source": [
    "import plotly.express as px\n",
    "from sklearn.feature_extraction.text import TfidfVectorizer, CountVectorizer\n",
    "from sklearn.metrics.pairwise import cosine_similarity\n",
    "from sklearn.cluster import KMeans\n",
    "from sklearn.metrics import silhouette_score\n",
    "from pybliometrics.scopus import AbstractRetrieval\n",
    "from pybliometrics.scopus import ScopusSearch\n",
    "import spacy\n",
    "import pandas as pd\n",
    "import glob\n",
    "import numpy as np\n"
   ]
  },
  {
   "attachments": {},
   "cell_type": "markdown",
   "metadata": {},
   "source": [
    "### Modelos"
   ]
  },
  {
   "cell_type": "code",
   "execution_count": 11,
   "metadata": {},
   "outputs": [],
   "source": [
    "def preprocess_text(text):\n",
    "    # Preprocesar el texto eliminando signos de puntuación y convirtiendo a minúsculas\n",
    "    nlp = spacy.load('en_core_web_sm')\n",
    "    doc = nlp(text)\n",
    "    preprocessed_text = ' '.join([token.lemma_ for token in doc if not token.is_punct and not token.is_stop])\n",
    "    return preprocessed_text\n",
    "\n",
    "\n",
    "def create_query(texts):\n",
    "    # Paso 1: Preprocesamiento del texto\n",
    "    preprocessed_texts = [preprocess_text(text) for text in texts]\n",
    "\n",
    "    # Paso 2: Crear la matriz de características\n",
    "    vectorizer = TfidfVectorizer(stop_words='english')\n",
    "    X = vectorizer.fit_transform(preprocessed_texts)\n",
    "\n",
    "    # Paso 3: Seleccionar la mejor cantidad de clusters\n",
    "    best_score = -1\n",
    "    best_n_clusters = 0\n",
    "    n_samples = X.shape[0]\n",
    "\n",
    "    for n_clusters in range(2, n_samples):\n",
    "        kmeans = KMeans(n_clusters=n_clusters, random_state=0).fit(X)\n",
    "        labels = kmeans.labels_\n",
    "        score = silhouette_score(X, labels)\n",
    "        if score > best_score:\n",
    "            best_score = score\n",
    "            best_n_clusters = n_clusters\n",
    "\n",
    "    # Paso 4: Identificar los temas\n",
    "    kmeans = KMeans(n_clusters=best_n_clusters, random_state=0).fit(X)\n",
    "    labels = kmeans.labels_\n",
    "    centroids = kmeans.cluster_centers_\n",
    "\n",
    "    # Paso 5: Crear la ecuación de búsqueda\n",
    "    feature_names = vectorizer.get_feature_names_out()\n",
    "    topics = []\n",
    "    for i in range(best_n_clusters):\n",
    "        indices = [j for j, label in enumerate(labels) if label == i]\n",
    "        top_features = [feature_names[j] for j in centroids[i].argsort()[:-10:-1]]\n",
    "        topic = '({})'.format(' AND '.join(['\"' + top_features[j] + '\"' for j in range(len(top_features))]))\n",
    "        topics.append(topic)\n",
    "    topics_str = ' OR '.join(topics)\n",
    "    search_query = 'ABS{}'.format(topics_str)\n",
    "\n",
    "    return search_query\n",
    "\n",
    "def get_abstract(doi):\n",
    "    try:\n",
    "        ab = AbstractRetrieval(doi)\n",
    "        return ab.description\n",
    "    except Exception as e:\n",
    "        return str(e)\n",
    "\n",
    "def find_similar_documents(consultados, query, titles, n):\n",
    "    consultados = [preprocess_text(text) for text in consultados]\n",
    "    recomendados = []\n",
    "    \n",
    "    search = ScopusSearch(query)\n",
    "    search_results = search.results\n",
    "    search_results = [registro.description for registro in search_results if registro.description is not None]\n",
    "    descriptions_recommend = [preprocess_text(text) for text in search_results]\n",
    "\n",
    "    vectorizer = TfidfVectorizer(stop_words='english')\n",
    "    vectorizer.fit(consultados)\n",
    "    \n",
    "    df_vectors = vectorizer.transform(consultados)\n",
    "    abstract_vectors = vectorizer.transform(descriptions_recommend)\n",
    "    \n",
    "    similarity_scores = cosine_similarity(df_vectors, abstract_vectors)\n",
    "    \n",
    "    similar_docs_indices = similarity_scores.argsort()[:, ::-1][:, :n]\n",
    "    \n",
    "    documentos_similares = []\n",
    "    \n",
    "    for indices_fila in similar_docs_indices:\n",
    "        nombres = [search_results[indice].title for indice in indices_fila]\n",
    "        documentos_similares.append(nombres)\n",
    "    \n",
    "    recommended_results = [search_results[i].title for i in similar_docs_indices[0]]\n",
    "    \n",
    "    result_dict = dict(zip(titles, recommended_results))\n",
    "    \n",
    "    return result_dict"
   ]
  },
  {
   "attachments": {},
   "cell_type": "markdown",
   "metadata": {},
   "source": [
    "### Datos"
   ]
  },
  {
   "cell_type": "code",
   "execution_count": 3,
   "metadata": {},
   "outputs": [],
   "source": [
    "csv_files = glob.glob('Ezpaarse/*.csv')\n",
    "\n",
    "list_data = []\n",
    "  \n",
    "\n",
    "for filename in csv_files:\n",
    "    #data = pd.read_excel(filename)\n",
    "    data = pd.read_csv(filename)\n",
    "    #data.to_csv(f'{filename[:19]}.csv')\n",
    "    list_data.append(data)\n",
    " \n",
    "ezp_data = pd.concat(list_data,ignore_index=True)\n",
    "\n",
    "# Selección de variables\n",
    "ezp_data = ezp_data.loc[:,['date','login', 'platform', 'platform_name',\n",
    "       'publisher_name', 'rtype', 'mime','doi', 'publication_title',\n",
    "       'publication_date','title', 'type', 'subject', 'identd']]\n",
    "\n",
    "ezp_data['login'] = ezp_data['login'].str.lower()\n",
    "ezp_data['doi'] = ezp_data['doi'].str.lower()\n",
    "\n",
    "# Se usa un DF \n",
    "df = ezp_data\n",
    "df['date'] = pd.to_datetime(df['date'])\n",
    "df = df[df['date'] < '2023-01-01']\n",
    "df = df[df['doi'].notnull()]"
   ]
  },
  {
   "attachments": {},
   "cell_type": "markdown",
   "metadata": {},
   "source": [
    "### Set de datos de test"
   ]
  },
  {
   "cell_type": "code",
   "execution_count": 5,
   "metadata": {},
   "outputs": [],
   "source": [
    "# Se crea un dataframe agrupando con 100 registros aleatorios\n",
    "df_grouped = df.groupby(['date', 'login', 'identd', 'platform']).agg({'doi': 'unique', 'title': 'unique'}).reset_index()\n",
    "\n",
    "df_sample = df_grouped.sample(n=100,random_state=452).dropna(subset=['doi'])"
   ]
  },
  {
   "cell_type": "code",
   "execution_count": 6,
   "metadata": {},
   "outputs": [],
   "source": [
    "# Aplicar la función a cada fila del DataFrame y almacenar los resultados en nuevas columnas\n",
    "df_sample['response_scopus'] = df_sample['doi'].apply(lambda x: [get_abstract(doi) for doi in x])\n",
    "df_sample['cantidad_doi'] = df_sample['doi'].apply(len)\n",
    "df_sample['cantidad_doi_scopus'] = df_sample['response_scopus'].apply(lambda lst: sum(1 for elem in lst if elem is not None and 'The resource specified cannot be found.' not in elem))\n",
    "df_sample['porcentaje_en_scopus'] = round(df_sample['cantidad_doi_scopus'] / df_sample['cantidad_doi'],2)\n",
    "\n",
    "df_sample['query_result'] = df_sample.apply(lambda row: create_query([abstract for abstract in row['response_scopus'] if abstract not in ['The resource specified cannot be found.', None]]) if row['cantidad_doi_scopus'] > 2 and 'The resource specified cannot be found.' not in row['response_scopus'] else '', axis=1)"
   ]
  },
  {
   "cell_type": "code",
   "execution_count": 12,
   "metadata": {},
   "outputs": [],
   "source": [
    "df_sample['Recommendation'] = df_sample.apply(lambda row: find_similar_documents(row['response_scopus'], row['query_result'], row['title'], 3) if all(elem not in ['The resource specified cannot be found.', None] for elem in row['response_scopus']) and row['cantidad_doi_scopus'] > 2 else {}, axis=1)"
   ]
  },
  {
   "cell_type": "code",
   "execution_count": 14,
   "metadata": {},
   "outputs": [],
   "source": [
    "df_sample.to_excel('test_final.xlsx')"
   ]
  }
 ],
 "metadata": {
  "kernelspec": {
   "display_name": "Python 3 (ipykernel)",
   "language": "python",
   "name": "python3"
  },
  "language_info": {
   "codemirror_mode": {
    "name": "ipython",
    "version": 3
   },
   "file_extension": ".py",
   "mimetype": "text/x-python",
   "name": "python",
   "nbconvert_exporter": "python",
   "pygments_lexer": "ipython3",
   "version": "3.9.13"
  },
  "vscode": {
   "interpreter": {
    "hash": "aee8b7b246df8f9039afb4144a1f6fd8d2ca17a180786b69acc140d282b71a49"
   }
  }
 },
 "nbformat": 4,
 "nbformat_minor": 2
}
